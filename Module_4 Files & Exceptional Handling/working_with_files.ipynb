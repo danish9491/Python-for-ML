{
 "cells": [
  {
   "cell_type": "markdown",
   "metadata": {},
   "source": [
    "### File Mode Characters and Their Meanings:\n",
    "\n",
    "- **`'r'`**: Open for **reading** (default mode)\n",
    "  \n",
    "- **`'w'`**: Open for **writing**, truncating the file first. If the file exists, it will be **overwritten**.\n",
    "  \n",
    "- **`'x'`**: Create a **new file** and open it for writing. If the file exists, this operation will fail.\n",
    "  \n",
    "- **`'a'`**: Open for **writing**. If the file exists, new content is **appended** to the end.\n",
    "  \n",
    "- **`'b'`**: **Binary mode**. Data is read and written as **bytes**, rather than strings.\n",
    "  \n",
    "- **`'t'`**: **Text mode** (default). Data is read and written as **text** (strings).\n",
    "\n",
    "- **`'+'`**: Open the file for **updating** (both **reading** and **writing**).\n",
    "  \n",
    "- **`'U'`**: **Universal newline mode** (deprecated). Used for handling different newline characters (`\\n`, `\\r`, `\\r\\n`).\n"
   ]
  },
  {
   "cell_type": "code",
   "execution_count": 4,
   "metadata": {},
   "outputs": [],
   "source": [
    "f = open(\"test.txt\", 'w')  # w for write"
   ]
  },
  {
   "cell_type": "code",
   "execution_count": 2,
   "metadata": {},
   "outputs": [
    {
     "data": {
      "text/plain": [
       "'d:\\\\Code Playground\\\\Python for ML\\\\Module_4 Files & Exceptional Handling'"
      ]
     },
     "execution_count": 2,
     "metadata": {},
     "output_type": "execute_result"
    }
   ],
   "source": [
    "pwd"
   ]
  },
  {
   "cell_type": "code",
   "execution_count": null,
   "metadata": {},
   "outputs": [],
   "source": [
    "ls"
   ]
  },
  {
   "cell_type": "code",
   "execution_count": 6,
   "metadata": {},
   "outputs": [
    {
     "data": {
      "text/plain": [
       "30"
      ]
     },
     "execution_count": 6,
     "metadata": {},
     "output_type": "execute_result"
    }
   ],
   "source": [
    "f.write(\"This is my first file to write\")"
   ]
  },
  {
   "cell_type": "code",
   "execution_count": null,
   "metadata": {},
   "outputs": [],
   "source": []
  }
 ],
 "metadata": {
  "kernelspec": {
   "display_name": "Python 3",
   "language": "python",
   "name": "python3"
  },
  "language_info": {
   "codemirror_mode": {
    "name": "ipython",
    "version": 3
   },
   "file_extension": ".py",
   "mimetype": "text/x-python",
   "name": "python",
   "nbconvert_exporter": "python",
   "pygments_lexer": "ipython3",
   "version": "3.12.4"
  }
 },
 "nbformat": 4,
 "nbformat_minor": 2
}
