{
  "nbformat": 4,
  "nbformat_minor": 0,
  "metadata": {
    "colab": {
      "provenance": []
    },
    "kernelspec": {
      "name": "python3",
      "display_name": "Python 3"
    },
    "language_info": {
      "name": "python"
    }
  },
  "cells": [
    {
      "cell_type": "code",
      "execution_count": 1,
      "metadata": {
        "colab": {
          "base_uri": "https://localhost:8080/"
        },
        "id": "McDRlZRTNs_i",
        "outputId": "eaae4f62-f127-4b20-febb-e4f49632d3d0"
      },
      "outputs": [
        {
          "output_type": "stream",
          "name": "stdout",
          "text": [
            "1\n",
            "2\n",
            "3\n",
            "4\n",
            "5\n",
            "6\n",
            "7\n",
            "8\n",
            "9\n",
            "10\n"
          ]
        }
      ],
      "source": [
        "a = 1\n",
        "\n",
        "while a<= 10 :\n",
        "  print(a)\n",
        "  a = a+1"
      ]
    },
    {
      "cell_type": "code",
      "source": [
        "n = int(input(\"Enter you limit: \"))\n",
        "starting_point = 0\n",
        "counter = 1\n",
        "\n",
        "while counter <= n :\n",
        "  starting_point = starting_point + counter\n",
        "  counter = counter + 1\n",
        "starting_point"
      ],
      "metadata": {
        "colab": {
          "base_uri": "https://localhost:8080/"
        },
        "id": "h9MG6IODN6IS",
        "outputId": "a7d2fec6-f3cf-42b4-baf0-e17b05933efb"
      },
      "execution_count": null,
      "outputs": [
        {
          "name": "stdout",
          "output_type": "stream",
          "text": [
            "Enter you limit: 5\n"
          ]
        },
        {
          "output_type": "execute_result",
          "data": {
            "text/plain": [
              "15"
            ]
          },
          "metadata": {},
          "execution_count": 3
        }
      ]
    },
    {
      "cell_type": "code",
      "source": [
        "number = int(input(\"Enter your number: \"))\n",
        "factorial = 1\n",
        "while number > 0 :\n",
        "  factorial = factorial * number\n",
        "  number = number - 1\n",
        "factorial"
      ],
      "metadata": {
        "colab": {
          "base_uri": "https://localhost:8080/"
        },
        "id": "V-O7e_G-OnDg",
        "outputId": "5fc19131-083d-469b-b257-1003b30832c3"
      },
      "execution_count": null,
      "outputs": [
        {
          "name": "stdout",
          "output_type": "stream",
          "text": [
            "Enter your number: 3\n"
          ]
        },
        {
          "output_type": "execute_result",
          "data": {
            "text/plain": [
              "6"
            ]
          },
          "metadata": {},
          "execution_count": 4
        }
      ]
    },
    {
      "cell_type": "code",
      "source": [
        "#Finonacci series"
      ],
      "metadata": {
        "id": "hAfcEC7LPXEd"
      },
      "execution_count": null,
      "outputs": []
    },
    {
      "cell_type": "code",
      "source": [
        "number = int(input(\"Enter your number: \"))\n",
        "a , b = 0 , 1\n",
        "counter = 0\n",
        "while counter < number :\n",
        "  print(a)\n",
        "  c = a + b\n",
        "  a = b\n",
        "  b = c\n",
        "  counter = counter + 1"
      ],
      "metadata": {
        "colab": {
          "base_uri": "https://localhost:8080/"
        },
        "id": "LsBsvM_0xPLb",
        "outputId": "478e060c-e68b-408f-811d-8f09c073a2a5"
      },
      "execution_count": 2,
      "outputs": [
        {
          "output_type": "stream",
          "name": "stdout",
          "text": [
            "Enter your number: 10\n",
            "0\n",
            "1\n",
            "1\n",
            "2\n",
            "3\n",
            "5\n",
            "8\n",
            "13\n",
            "21\n",
            "34\n"
          ]
        }
      ]
    },
    {
      "cell_type": "code",
      "source": [
        "a, b = 0 , 1\n",
        "for i in range(10) :\n",
        "  print(a)\n",
        "  c = a + b\n",
        "  a = b\n",
        "  b = c"
      ],
      "metadata": {
        "colab": {
          "base_uri": "https://localhost:8080/"
        },
        "id": "JjJ9ZGY8xdDY",
        "outputId": "bf9cf02e-cede-43ff-f754-72b51275b461"
      },
      "execution_count": 3,
      "outputs": [
        {
          "output_type": "stream",
          "name": "stdout",
          "text": [
            "0\n",
            "1\n",
            "1\n",
            "2\n",
            "3\n",
            "5\n",
            "8\n",
            "13\n",
            "21\n",
            "34\n"
          ]
        }
      ]
    },
    {
      "cell_type": "code",
      "source": [
        "s = \"danish\""
      ],
      "metadata": {
        "id": "_1C5sxuXzNYR"
      },
      "execution_count": 6,
      "outputs": []
    },
    {
      "cell_type": "code",
      "source": [
        "s[::-1]"
      ],
      "metadata": {
        "colab": {
          "base_uri": "https://localhost:8080/",
          "height": 36
        },
        "id": "Tefv-OcXzVMn",
        "outputId": "63cad6af-d88f-420a-c267-aa319a8e8325"
      },
      "execution_count": 7,
      "outputs": [
        {
          "output_type": "execute_result",
          "data": {
            "text/plain": [
              "'hsinad'"
            ],
            "application/vnd.google.colaboratory.intrinsic+json": {
              "type": "string"
            }
          },
          "metadata": {},
          "execution_count": 7
        }
      ]
    },
    {
      "cell_type": "code",
      "source": [
        "word = input(\"Enter your string for reversal: \")"
      ],
      "metadata": {
        "colab": {
          "base_uri": "https://localhost:8080/"
        },
        "id": "fMPtsTKBzXq3",
        "outputId": "284f603d-1af7-4457-a029-281ce4b527e5"
      },
      "execution_count": 9,
      "outputs": [
        {
          "name": "stdout",
          "output_type": "stream",
          "text": [
            "Enter your string for reversal: danish\n"
          ]
        }
      ]
    },
    {
      "cell_type": "code",
      "source": [
        "reverse = \"\"\n",
        "length = len(word)\n",
        "while length > 0 :\n",
        "  reverse = reverse + word[length - 1]\n",
        "  length = length - 1\n",
        "print(reverse)"
      ],
      "metadata": {
        "colab": {
          "base_uri": "https://localhost:8080/"
        },
        "id": "YHyPz5BxzhzH",
        "outputId": "3f4d3483-ff5f-4a32-819d-9b222ddc6561"
      },
      "execution_count": 11,
      "outputs": [
        {
          "output_type": "stream",
          "name": "stdout",
          "text": [
            "hsinad\n"
          ]
        }
      ]
    },
    {
      "cell_type": "code",
      "source": [
        "# print table of numbers"
      ],
      "metadata": {
        "id": "CkbQIBOR0B3v"
      },
      "execution_count": 12,
      "outputs": []
    },
    {
      "cell_type": "code",
      "source": [
        "n = int(input(\"Enter your number: \"))\n",
        "i = 1\n",
        "\n",
        "while i <= 10 :\n",
        "  result = n * i\n",
        "  print(n,\"*\", i, \"=\", result)\n",
        "  i = i + 1"
      ],
      "metadata": {
        "colab": {
          "base_uri": "https://localhost:8080/"
        },
        "id": "nRkkmlxt0mEa",
        "outputId": "c65d22dc-f6f1-490d-e3da-930f5a5c9a4e"
      },
      "execution_count": 13,
      "outputs": [
        {
          "output_type": "stream",
          "name": "stdout",
          "text": [
            "Enter your number: 12\n",
            "12 * 1 = 12\n",
            "12 * 2 = 24\n",
            "12 * 3 = 36\n",
            "12 * 4 = 48\n",
            "12 * 5 = 60\n",
            "12 * 6 = 72\n",
            "12 * 7 = 84\n",
            "12 * 8 = 96\n",
            "12 * 9 = 108\n",
            "12 * 10 = 120\n"
          ]
        }
      ]
    },
    {
      "cell_type": "code",
      "source": [
        "n = 5\n",
        "i = 1\n",
        "while i < n :\n",
        "  print(i)\n",
        "  i = i + 1\n",
        "else :\n",
        "  print(\"This will be executed once your while will complete it successfully\")"
      ],
      "metadata": {
        "colab": {
          "base_uri": "https://localhost:8080/"
        },
        "id": "8bQcwxxo1GkL",
        "outputId": "f86eeda9-9184-4265-9679-0f3db0c6162b"
      },
      "execution_count": 14,
      "outputs": [
        {
          "output_type": "stream",
          "name": "stdout",
          "text": [
            "1\n",
            "2\n",
            "3\n",
            "4\n",
            "This will be executed once your while will complete it successfully\n"
          ]
        }
      ]
    },
    {
      "cell_type": "code",
      "source": [
        "n = 5\n",
        "i = 1\n",
        "while i < n :\n",
        "  print(i)\n",
        "  if i == 3 :\n",
        "    break\n",
        "  i = i + 1\n",
        "else :\n",
        "  print(\"This will be executed once your while will complete it successfully\")"
      ],
      "metadata": {
        "colab": {
          "base_uri": "https://localhost:8080/"
        },
        "id": "cNppogmP1i8x",
        "outputId": "66bcc9ec-707f-4c10-9edc-634286fd4e6a"
      },
      "execution_count": 15,
      "outputs": [
        {
          "output_type": "stream",
          "name": "stdout",
          "text": [
            "1\n",
            "2\n",
            "3\n"
          ]
        }
      ]
    },
    {
      "cell_type": "code",
      "source": [],
      "metadata": {
        "id": "6lmZOjTl13-r"
      },
      "execution_count": null,
      "outputs": []
    }
  ]
}