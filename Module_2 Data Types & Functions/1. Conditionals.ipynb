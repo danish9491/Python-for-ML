{
  "cells": [
    {
      "cell_type": "code",
      "execution_count": 1,
      "metadata": {
        "colab": {
          "base_uri": "https://localhost:8080/"
        },
        "id": "-g-vnytxyy9u",
        "outputId": "a090283b-9839-4931-fe4e-1e4d328e3d54"
      },
      "outputs": [],
      "source": [
        "marks = int(input(\"Enter your marks: \"))\n",
        "if marks >= 80:\n",
        "    print(\"you will be a part of A0 batch\")\n",
        "elif marks >= 60 and marks < 80: # 60>= marks <80\n",
        "    print(\"you will be a part of A1 batch\")\n",
        "elif marks >=40 and marks < 60 :\n",
        "    print(\"you will be a part of A2 batch \")\n",
        "else :\n",
        "    print(\"you will be a part of A3 batch \")"
      ]
    },
    {
      "cell_type": "code",
      "execution_count": 6,
      "metadata": {
        "colab": {
          "base_uri": "https://localhost:8080/"
        },
        "id": "mmZXHcLKztIw",
        "outputId": "5326e00d-9ee5-4f77-81aa-a76bfb39a487"
      },
      "outputs": [
        {
          "data": {
            "text/plain": [
              "False"
            ]
          },
          "execution_count": 6,
          "metadata": {},
          "output_type": "execute_result"
        }
      ],
      "source": [
        "10 >= 80"
      ]
    },
    {
      "cell_type": "code",
      "execution_count": 7,
      "metadata": {
        "colab": {
          "base_uri": "https://localhost:8080/"
        },
        "id": "pFfhMDQY0VWV",
        "outputId": "51dca075-320e-44f0-ad8a-379467f1c54d"
      },
      "outputs": [
        {
          "name": "stdout",
          "output_type": "stream",
          "text": [
            "Enter your marks: 34\n"
          ]
        }
      ],
      "source": [
        "marks = int(input(\"Enter your marks: \"))"
      ]
    },
    {
      "cell_type": "code",
      "execution_count": 8,
      "metadata": {
        "colab": {
          "base_uri": "https://localhost:8080/"
        },
        "id": "U8mWI5MK0aMU",
        "outputId": "1e1e7f1f-fd49-46c7-dcab-b31c732f22ac"
      },
      "outputs": [
        {
          "data": {
            "text/plain": [
              "34"
            ]
          },
          "execution_count": 8,
          "metadata": {},
          "output_type": "execute_result"
        }
      ],
      "source": [
        "marks\n"
      ]
    },
    {
      "cell_type": "code",
      "execution_count": 9,
      "metadata": {
        "colab": {
          "base_uri": "https://localhost:8080/"
        },
        "id": "JEWg5q1b0cKp",
        "outputId": "4985d385-3063-4379-9176-d765c3777748"
      },
      "outputs": [
        {
          "data": {
            "text/plain": [
              "int"
            ]
          },
          "execution_count": 9,
          "metadata": {},
          "output_type": "execute_result"
        }
      ],
      "source": [
        "type(marks)"
      ]
    },
    {
      "cell_type": "code",
      "execution_count": 13,
      "metadata": {
        "colab": {
          "base_uri": "https://localhost:8080/"
        },
        "id": "Mkb-fBXs0eAg",
        "outputId": "8889f0a5-19b1-4731-d89a-8bb93912246b"
      },
      "outputs": [
        {
          "name": "stdout",
          "output_type": "stream",
          "text": [
            "Enter the price: 1500\n",
            "I will not purchase\n",
            "Its ok\n"
          ]
        }
      ],
      "source": [
        "price = int(input(\"Enter the price: \"))\n",
        "if price > 1000:\n",
        "    print(\"I will not purchase\")\n",
        "    if price > 5000:\n",
        "        print(\"This is too much\")\n",
        "    elif price < 2000:\n",
        "        print(\"Its ok\")\n",
        "else :\n",
        "    print(\"I will purchase\")"
      ]
    },
    {
      "cell_type": "code",
      "execution_count": 14,
      "metadata": {
        "id": "BVGNgAFJ3CzQ"
      },
      "outputs": [],
      "source": [
        "l = [1,2,3,4,5,6,7,8]"
      ]
    },
    {
      "cell_type": "code",
      "execution_count": 15,
      "metadata": {
        "colab": {
          "base_uri": "https://localhost:8080/"
        },
        "id": "JgUyLL7G3t0K",
        "outputId": "93d0e31b-87e5-4c44-c33a-0337c5586446"
      },
      "outputs": [
        {
          "data": {
            "text/plain": [
              "1"
            ]
          },
          "execution_count": 15,
          "metadata": {},
          "output_type": "execute_result"
        }
      ],
      "source": [
        "l[0]"
      ]
    },
    {
      "cell_type": "code",
      "execution_count": 16,
      "metadata": {
        "colab": {
          "base_uri": "https://localhost:8080/"
        },
        "id": "9VTS0BWh3w5Q",
        "outputId": "ac771a7c-cd1b-4e19-9279-d580c5c0354f"
      },
      "outputs": [
        {
          "data": {
            "text/plain": [
              "2"
            ]
          },
          "execution_count": 16,
          "metadata": {},
          "output_type": "execute_result"
        }
      ],
      "source": [
        "l[0]+1"
      ]
    },
    {
      "cell_type": "code",
      "execution_count": 17,
      "metadata": {
        "colab": {
          "base_uri": "https://localhost:8080/"
        },
        "id": "UCG1DIjc3ywA",
        "outputId": "d1d1ec4f-75c0-4958-b457-45857cc12373"
      },
      "outputs": [
        {
          "data": {
            "text/plain": [
              "list"
            ]
          },
          "execution_count": 17,
          "metadata": {},
          "output_type": "execute_result"
        }
      ],
      "source": [
        "type(l)"
      ]
    },
    {
      "cell_type": "code",
      "execution_count": 18,
      "metadata": {
        "colab": {
          "base_uri": "https://localhost:8080/"
        },
        "id": "c-FFgX8_310d",
        "outputId": "37c74cd5-29e6-48bf-efcb-b699c263825d"
      },
      "outputs": [
        {
          "data": {
            "text/plain": [
              "[1, 2, 3, 4, 5, 6, 7, 8]"
            ]
          },
          "execution_count": 18,
          "metadata": {},
          "output_type": "execute_result"
        }
      ],
      "source": [
        "l"
      ]
    },
    {
      "cell_type": "code",
      "execution_count": 30,
      "metadata": {
        "colab": {
          "base_uri": "https://localhost:8080/"
        },
        "id": "GhRavSYw4PC7",
        "outputId": "61c657ea-c271-44b9-e7ca-a75b1f0f32c3"
      },
      "outputs": [
        {
          "name": "stdout",
          "output_type": "stream",
          "text": [
            "1\n",
            "2\n",
            "3\n",
            "4\n",
            "5\n",
            "6\n",
            "7\n",
            "8\n"
          ]
        },
        {
          "data": {
            "text/plain": [
              "[2, 3, 4, 5, 6, 7, 8, 9]"
            ]
          },
          "execution_count": 30,
          "metadata": {},
          "output_type": "execute_result"
        }
      ],
      "source": [
        "l1 = []\n",
        "for i in l:\n",
        "  print(i)\n",
        "  l1.append(i+1)\n",
        "l1"
      ]
    },
    {
      "cell_type": "code",
      "execution_count": 31,
      "metadata": {
        "id": "iBk4THS-4SWW"
      },
      "outputs": [],
      "source": [
        "l = [\"danish\", \"ansari\", \"pwskills\", \"course\"]"
      ]
    },
    {
      "cell_type": "code",
      "execution_count": 34,
      "metadata": {
        "colab": {
          "base_uri": "https://localhost:8080/"
        },
        "id": "LGm7uoAx6b5-",
        "outputId": "922d7b3e-5408-48d6-b583-8d8dd080c56d"
      },
      "outputs": [
        {
          "data": {
            "text/plain": [
              "list"
            ]
          },
          "execution_count": 34,
          "metadata": {},
          "output_type": "execute_result"
        }
      ],
      "source": [
        "type(l)"
      ]
    },
    {
      "cell_type": "code",
      "execution_count": 35,
      "metadata": {
        "colab": {
          "base_uri": "https://localhost:8080/"
        },
        "id": "ZUd3fzOe6gMi",
        "outputId": "250abd9c-1bad-4c18-b521-c0b09d2b4723"
      },
      "outputs": [
        {
          "data": {
            "text/plain": [
              "['danish', 'ansari', 'pwskills', 'course']"
            ]
          },
          "execution_count": 35,
          "metadata": {},
          "output_type": "execute_result"
        }
      ],
      "source": [
        "l"
      ]
    },
    {
      "cell_type": "code",
      "execution_count": 36,
      "metadata": {
        "colab": {
          "base_uri": "https://localhost:8080/"
        },
        "id": "QcR-qwIu6oxD",
        "outputId": "6440f8a6-ca4e-48e0-c759-f52232acb70b"
      },
      "outputs": [
        {
          "name": "stdout",
          "output_type": "stream",
          "text": [
            "danish\n",
            "ansari\n",
            "pwskills\n",
            "course\n"
          ]
        }
      ],
      "source": [
        "for i in l :\n",
        "  print(i)"
      ]
    },
    {
      "cell_type": "code",
      "execution_count": 37,
      "metadata": {
        "colab": {
          "base_uri": "https://localhost:8080/",
          "height": 53
        },
        "id": "ji7MvIgX6s53",
        "outputId": "b9455fc3-1caa-40df-9f22-78e0e9c9a41f"
      },
      "outputs": [
        {
          "data": {
            "application/vnd.google.colaboratory.intrinsic+json": {
              "type": "string"
            },
            "text/plain": [
              "'danish'"
            ]
          },
          "execution_count": 37,
          "metadata": {},
          "output_type": "execute_result"
        }
      ],
      "source": [
        "l[0]"
      ]
    },
    {
      "cell_type": "code",
      "execution_count": 40,
      "metadata": {
        "colab": {
          "base_uri": "https://localhost:8080/"
        },
        "id": "m_grQdAY6xlG",
        "outputId": "9eb73034-7ecb-484d-d872-00335c72c94d"
      },
      "outputs": [
        {
          "name": "stdout",
          "output_type": "stream",
          "text": [
            "danish\n",
            "ansari\n",
            "pwskills\n",
            "course\n"
          ]
        }
      ],
      "source": [
        "l1 =[]\n",
        "for i in l :\n",
        "  print(i)\n",
        "  l1.append(i.upper())\n"
      ]
    },
    {
      "cell_type": "code",
      "execution_count": 41,
      "metadata": {
        "colab": {
          "base_uri": "https://localhost:8080/"
        },
        "id": "9RiCsUJk7TKf",
        "outputId": "1e9ca959-0a4d-4715-bb64-4687a3362113"
      },
      "outputs": [
        {
          "data": {
            "text/plain": [
              "['DANISH', 'ANSARI', 'PWSKILLS', 'COURSE']"
            ]
          },
          "execution_count": 41,
          "metadata": {},
          "output_type": "execute_result"
        }
      ],
      "source": [
        "l1"
      ]
    },
    {
      "cell_type": "code",
      "execution_count": 3,
      "metadata": {
        "id": "my-ogYly7gaH"
      },
      "outputs": [],
      "source": [
        "l = [ 1,2,3,4,4,\"danish\", \"ansari\", 324, 34,456, \"abc\"]"
      ]
    },
    {
      "cell_type": "code",
      "execution_count": 4,
      "metadata": {
        "id": "zCPXYcW09wNq"
      },
      "outputs": [],
      "source": [
        "l1_num = []\n",
        "l2_str = []\n",
        "for i in l :\n",
        "  if type(i) == int or type(i) == float :\n",
        "    l1_num.append(i)\n",
        "  else :\n",
        "    l2_str.append(i)"
      ]
    },
    {
      "cell_type": "code",
      "execution_count": 5,
      "metadata": {
        "colab": {
          "base_uri": "https://localhost:8080/"
        },
        "id": "3G_VU5Sw-Yen",
        "outputId": "38e90ea6-9ddc-4b93-89dc-24ac95417ae4"
      },
      "outputs": [
        {
          "data": {
            "text/plain": [
              "[1, 2, 3, 4, 4, 324, 34, 456]"
            ]
          },
          "execution_count": 5,
          "metadata": {},
          "output_type": "execute_result"
        }
      ],
      "source": [
        "l1_num"
      ]
    },
    {
      "cell_type": "code",
      "execution_count": 8,
      "metadata": {
        "colab": {
          "base_uri": "https://localhost:8080/"
        },
        "id": "06NiQd-M-cby",
        "outputId": "e74b6e1a-c9a0-422d-9ead-8759344eb019"
      },
      "outputs": [
        {
          "data": {
            "text/plain": [
              "['danish', 'ansari', 'abc']"
            ]
          },
          "execution_count": 8,
          "metadata": {},
          "output_type": "execute_result"
        }
      ],
      "source": [
        "l2_str"
      ]
    },
    {
      "cell_type": "code",
      "execution_count": null,
      "metadata": {
        "id": "M5NCHANe-glX"
      },
      "outputs": [],
      "source": []
    }
  ],
  "metadata": {
    "colab": {
      "provenance": []
    },
    "kernelspec": {
      "display_name": "Python 3",
      "name": "python3"
    },
    "language_info": {
      "codemirror_mode": {
        "name": "ipython",
        "version": 3
      },
      "file_extension": ".py",
      "mimetype": "text/x-python",
      "name": "python",
      "nbconvert_exporter": "python",
      "pygments_lexer": "ipython3",
      "version": "3.11.9"
    }
  },
  "nbformat": 4,
  "nbformat_minor": 0
}
